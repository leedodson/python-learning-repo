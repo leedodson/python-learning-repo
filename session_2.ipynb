{
 "cells": [
  {
   "cell_type": "code",
   "execution_count": 14,
   "metadata": {},
   "outputs": [
    {
     "name": "stdout",
     "output_type": "stream",
     "text": [
      "['Red', 'Green', 'Blue']\n",
      "['Red', 'Green', 'Blue', 'Purple']\n",
      "['Red', 'Green', 'Blue', 'Purple', ['Black', 'White']]\n",
      "['Red', 'Green', 'Blue', 'Purple', ['Black', 'White'], 'Black', 'White']\n",
      "['Red', 'Green', 'Blue', 'Purple', ['Black', 'White'], 'Black', 'White', 'g', 'r', 'e', 'y']\n"
     ]
    }
   ],
   "source": [
    "#list_1 = []\n",
    "\n",
    "#print(type(list_1))\n",
    "\n",
    "colours = [\"Red\",\"Green\",\"Blue\"]\n",
    "\n",
    "print(colours)\n",
    "\n",
    "#append value to the string\n",
    "colours.append(\"Purple\")\n",
    "\n",
    "print(colours)\n",
    "\n",
    "extra_colours = [\"Black\",\"White\"]\n",
    "\n",
    "colours.append(extra_colours)\n",
    "\n",
    "print(colours)\n",
    "\n",
    "colours.extend(extra_colours)\n",
    "\n",
    "print(colours)\n",
    "\n",
    "colours.extend(\"grey\")\n",
    "\n",
    "print(colours)\n",
    "\n"
   ]
  },
  {
   "cell_type": "code",
   "execution_count": 27,
   "metadata": {},
   "outputs": [
    {
     "name": "stdout",
     "output_type": "stream",
     "text": [
      "['burger', 'pizza', 'chips', 'sausages', 'noodles']\n"
     ]
    }
   ],
   "source": [
    "# In this cell, make a list of a few foods and print it.\n",
    "food = [\"burger\", \"pizza\", \"chips\"]\n",
    "# Then append the list with another food and print it.\n",
    "food.append(\"sausages\")\n",
    "# Next, make another list of foods, and use the extend method to \n",
    "# add those extra foods as individual elements of the list, and print it.\n",
    "food.extend([\"noodles\", \"pasty\"])\n",
    "# Finally, remove and element from the list and print the final list.\n",
    "# Remember to always use a suitable name for your lists!\n",
    "food.remove(\"pasty\")\n",
    "\n",
    "print(food)"
   ]
  },
  {
   "cell_type": "code",
   "execution_count": 35,
   "metadata": {},
   "outputs": [
    {
     "name": "stdout",
     "output_type": "stream",
     "text": [
      "[2, 5, 7, 3, 1, 5, 8]\n",
      "[8, 7, 5, 5, 3, 2, 1]\n",
      "[1, 2, 3, 5, 5, 7, 8]\n",
      "{'Lee': 'Red', 'Chris': 'Blue', 'James': 'Yellow'}\n"
     ]
    }
   ],
   "source": [
    "numbers = [2,5,7,3,1,5,8]\n",
    "print(numbers)\n",
    "\n",
    "numbers.sort(reverse=True)\n",
    "print(numbers)\n",
    "\n",
    "print(sorted(numbers))\n",
    "\n",
    "\n",
    "lee = {\"Name\":\"Lee\",\n",
    "       \"Age\":45,\n",
    "       \"Food\":\"Pizza\",\n",
    "       \"Sport\":\"Running\",\n",
    "       \"Location\":\"Rotherham\"}\n",
    "\n",
    "\n",
    "\n",
    "fav_cols = {\"Lee\":\"Red\",\n",
    "            \"Chris\":\"Blue\",\n",
    "            \"James\":\"Yellow\"\n",
    "            }\n",
    "\n",
    "print(fav_cols)\n",
    "\n",
    "Staff = {}"
   ]
  },
  {
   "cell_type": "code",
   "execution_count": 46,
   "metadata": {},
   "outputs": [
    {
     "name": "stdout",
     "output_type": "stream",
     "text": [
      "Purple\n",
      "y\n",
      "dict_keys(['Will', 'Andy', 'Annie'])\n",
      "dict_values(['Purple', ['Purple', 'Teal'], {'Monday': 'Red', 'Rest of the week': ['Red', 'Green', 'Blue', 'Purple', ['Black', 'White'], 'Black', 'White', 'g', 'r', 'e', 'y']}])\n",
      "dict_items([('Will', 'Purple'), ('Andy', ['Purple', 'Teal']), ('Annie', {'Monday': 'Red', 'Rest of the week': ['Red', 'Green', 'Blue', 'Purple', ['Black', 'White'], 'Black', 'White', 'g', 'r', 'e', 'y']})])\n",
      "{'Will': 'Purple', 'Andy': ['Purple', 'Teal'], 'Annie': {'Monday': 'Red', 'Rest of the week': ['Red', 'Green', 'Blue', 'Purple', ['Black', 'White'], 'Black', 'White', 'g', 'r', 'e', 'y']}, 'Naiomi': 'Yellow'}\n",
      "{'Will': 'Purple', 'Andy': ['Purple', 'Teal'], 'Annie': 'Gold', 'Naiomi': 'Yellow'}\n",
      "False\n",
      "dict_items([('Lee', 'Manager'), ('Chris', 'Officer'), ('Cat', {'Transponster', 'HOS'})])\n",
      "{'Lee': 'Manager', 'Chris': 'Officer', 'Cat': {'Transponster', 'HOS'}, 'Becky': 'Worker'}\n",
      "{'Lee': 'Retired', 'Chris': 'Officer', 'Cat': {'Transponster', 'HOS'}, 'Becky': 'Worker'}\n"
     ]
    }
   ],
   "source": [
    "fav_cols = {\"Will\":\"Purple\",\n",
    "            \"Andy\":[\"Purple\", \"Teal\"],\n",
    "            \"Annie\":{\"Monday\":\"Red\",\n",
    "                     \"Rest of the week\":colours}\n",
    "            }\n",
    "\n",
    "print(fav_cols[\"Andy\"][0])\n",
    "\n",
    "print(fav_cols[\"Annie\"][\"Rest of the week\"][-1])\n",
    "\n",
    "print(fav_cols.keys())\n",
    "\n",
    "print(fav_cols.values())\n",
    "\n",
    "print(fav_cols.items())\n",
    "\n",
    "fav_cols[\"Naiomi\"] = \"Yellow\"\n",
    "print(fav_cols)\n",
    "\n",
    "fav_cols[\"Annie\"] = \"Gold\"\n",
    "print(fav_cols)\n",
    "\n",
    "print(\"annie\" in fav_cols)\n",
    "\n",
    "# Make a dict of names and job titles, have about 3 entries\n",
    "staff = {\"Lee\":\"Manager\",\n",
    "          \"Chris\":\"Officer\",\n",
    "          \"Cat\":{\"HOS\",\"Transponster\"} }\n",
    "print(staff.items())\n",
    "# Make sure one person has multiple jobs using a dict as their value\n",
    "# print the .keys, .values(), and .items()\n",
    "# add an entry using the name[] syntax\n",
    "staff  [\"Becky\"] = \"Worker\"\n",
    "print(staff)\n",
    "\n",
    "staff  [\"Lee\"] = \"Retired\"\n",
    "print(staff)\n",
    "# overwrite an entry using the same syntax"
   ]
  },
  {
   "cell_type": "code",
   "execution_count": null,
   "metadata": {},
   "outputs": [],
   "source": [
    "# MAke a dict of names and job titles, have about 3 entries\n",
    "jobs = {\"Will\":\"Data Manager\",\n",
    "        \"Andy\":\"Retired\",\n",
    "        \"Annie\":{\"Mondays\":\"Teacher\",\n",
    "                 \"Rest of the week\":\"Retired\"}}\n",
    "# Make sure one person has multiple jobs using a dict as their value\n",
    "# print the .keys, .values(), and .items()\n",
    "print(jobs.keys())\n",
    "print(jobs.values())\n",
    "print(jobs.items())\n",
    "\n",
    "annie_keys = jobs['Annie'].keys()\n",
    "\n",
    "# add an entry using the name[] syntax\n",
    "jobs['Naiomi'] = \"Policy Writer\"\n",
    "# overwrite an entry using the same syntax\n",
    "jobs['Will'] = \"Python Person\"\n",
    "\n",
    "print(jobs)"
   ]
  },
  {
   "cell_type": "code",
   "execution_count": null,
   "metadata": {},
   "outputs": [],
   "source": []
  }
 ],
 "metadata": {
  "kernelspec": {
   "display_name": "Python 3",
   "language": "python",
   "name": "python3"
  },
  "language_info": {
   "codemirror_mode": {
    "name": "ipython",
    "version": 3
   },
   "file_extension": ".py",
   "mimetype": "text/x-python",
   "name": "python",
   "nbconvert_exporter": "python",
   "pygments_lexer": "ipython3",
   "version": "3.10.13"
  }
 },
 "nbformat": 4,
 "nbformat_minor": 2
}
